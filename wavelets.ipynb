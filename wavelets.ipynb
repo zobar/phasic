{
 "cells": [
  {
   "cell_type": "code",
   "execution_count": 1,
   "id": "e64e97b9",
   "metadata": {},
   "outputs": [
    {
     "name": "stderr",
     "output_type": "stream",
     "text": [
      "2025-02-20 18:13:21.052734: I tensorflow/core/platform/cpu_feature_guard.cc:210] This TensorFlow binary is optimized to use available CPU instructions in performance-critical operations.\n",
      "To enable the following instructions: SSE4.1 SSE4.2 AVX AVX2 AVX512F FMA, in other operations, rebuild TensorFlow with the appropriate compiler flags.\n"
     ]
    }
   ],
   "source": [
    "import numpy as np\n",
    "from ondelette import wavelets\n",
    "import pywt\n",
    "import tensorflow as tf\n",
    "\n",
    "np.set_printoptions(floatmode='unique')\n",
    "rng = np.random.default_rng()"
   ]
  },
  {
   "cell_type": "code",
   "execution_count": 13,
   "id": "830ea291",
   "metadata": {},
   "outputs": [
    {
     "name": "stdout",
     "output_type": "stream",
     "text": [
      "[[-21909  30674   -147  28632 -29552  31120  -8904   2223 -24819  21439\n",
      "   -7337  22741  13646 -23568 -15886]]\n",
      "[[[ -8880.275   11339.864   13229.016    9476.413  -10778.163\n",
      "     1359.9716  21588.31   -16685.254   -7672.3486]\n",
      "  [-33141.64   -17991.318  -46149.2    -11673.015  -30461.75\n",
      "   -18714.186   18649.793   -9772.198    2055.7996]]]\n",
      "[[-21909  30674   -147  28632 -29552  31120  -8904   2223 -24819  21439\n",
      "   -7337  22741  13646 -23568 -15886      0]]\n"
     ]
    }
   ],
   "source": [
    "dtype = tf.float32\n",
    "wavelet_name = 'db2'\n",
    "\n",
    "wavelet = wavelets.all[wavelet_name](dtype=dtype)\n",
    "\n",
    "samples_np = rng.integers(-32768, 32767, [1, 15], dtype=np.int16, endpoint=True)\n",
    "print(samples_np)\n",
    "samples = tf.constant(samples_np, dtype=dtype)\n",
    "\n",
    "dec = wavelets.dwt(wavelet, samples)\n",
    "print(dec.numpy())\n",
    "\n",
    "rec = wavelets.idwt(wavelet, dec)\n",
    "print(tf.cast(tf.round(rec), tf.int16).numpy())"
   ]
  },
  {
   "cell_type": "code",
   "execution_count": null,
   "id": "c188a837",
   "metadata": {},
   "outputs": [],
   "source": []
  }
 ],
 "metadata": {
  "kernelspec": {
   "display_name": "Python 3 (ipykernel)",
   "language": "python",
   "name": "python3"
  },
  "language_info": {
   "codemirror_mode": {
    "name": "ipython",
    "version": 3
   },
   "file_extension": ".py",
   "mimetype": "text/x-python",
   "name": "python",
   "nbconvert_exporter": "python",
   "pygments_lexer": "ipython3",
   "version": "3.11.11"
  }
 },
 "nbformat": 4,
 "nbformat_minor": 5
}
