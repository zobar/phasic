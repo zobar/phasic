{
 "cells": [
  {
   "cell_type": "code",
   "execution_count": 1,
   "id": "e64e97b9",
   "metadata": {},
   "outputs": [
    {
     "name": "stderr",
     "output_type": "stream",
     "text": [
      "2025-03-24 18:56:52.738703: I external/local_tsl/tsl/cuda/cudart_stub.cc:32] Could not find cuda drivers on your machine, GPU will not be used.\n",
      "2025-03-24 18:56:52.742419: I external/local_tsl/tsl/cuda/cudart_stub.cc:32] Could not find cuda drivers on your machine, GPU will not be used.\n",
      "2025-03-24 18:56:52.755227: E external/local_xla/xla/stream_executor/cuda/cuda_fft.cc:479] Unable to register cuFFT factory: Attempting to register factory for plugin cuFFT when one has already been registered\n",
      "2025-03-24 18:56:52.780623: E external/local_xla/xla/stream_executor/cuda/cuda_dnn.cc:10575] Unable to register cuDNN factory: Attempting to register factory for plugin cuDNN when one has already been registered\n",
      "2025-03-24 18:56:52.780672: E external/local_xla/xla/stream_executor/cuda/cuda_blas.cc:1442] Unable to register cuBLAS factory: Attempting to register factory for plugin cuBLAS when one has already been registered\n",
      "2025-03-24 18:56:52.796682: I tensorflow/core/platform/cpu_feature_guard.cc:210] This TensorFlow binary is optimized to use available CPU instructions in performance-critical operations.\n",
      "To enable the following instructions: AVX2 AVX512F FMA, in other operations, rebuild TensorFlow with the appropriate compiler flags.\n",
      "2025-03-24 18:56:54.117003: W tensorflow/compiler/tf2tensorrt/utils/py_utils.cc:38] TF-TRT Warning: Could not find TensorRT\n"
     ]
    }
   ],
   "source": [
    "import numpy as np\n",
    "from ondelette import *\n",
    "import tensorflow as tf\n",
    "import tensorflow_io as tfio\n",
    "import tensorflow_probability as tfp\n",
    "\n",
    "np.set_printoptions(floatmode='unique')\n",
    "dtype = tf.float32\n",
    "rng = np.random.default_rng()"
   ]
  },
  {
   "cell_type": "code",
   "execution_count": 2,
   "id": "3d746147",
   "metadata": {},
   "outputs": [
    {
     "name": "stderr",
     "output_type": "stream",
     "text": [
      "2025-03-24 18:56:57.441456: I tensorflow_io/core/kernels/cpu_check.cc:128] Your CPU supports instructions that this TensorFlow IO binary was not compiled to use: SSE3 SSE4.1 SSE4.2 AVX AVX2 AVX512F FMA\n"
     ]
    },
    {
     "name": "stdout",
     "output_type": "stream",
     "text": [
      "samples: 577320\n"
     ]
    }
   ],
   "source": [
    "song = 'MusicDelta_Rock'\n",
    "audio = tfio.audio.AudioIOTensor(f'data/MedleyDB_V1/{song}_MIX.mp3', dtype=tf.float32)\n",
    "rate = tf.cast(audio.rate, dtype=tf.int64)\n",
    "raw_samples = audio.to_tensor()\n",
    "samples = tf.transpose(raw_samples)\n",
    "print(f'samples: {samples.shape[1]}')\n"
   ]
  },
  {
   "cell_type": "code",
   "execution_count": 3,
   "id": "eca40170",
   "metadata": {},
   "outputs": [
    {
     "name": "stdout",
     "output_type": "stream",
     "text": [
      "Levels: [(2, 1117), (2, 1117), (2, 2234), (2, 4468), (2, 8936), (2, 17872), (2, 35744), (2, 71488), (2, 142976), (2, 285952)]\n",
      "Frames: [(1117, 2, 1), (1117, 2, 1), (1117, 2, 2), (1117, 2, 4), (1117, 2, 8), (1117, 2, 16), (1117, 2, 32), (1117, 2, 64), (1117, 2, 128), (1117, 2, 256)]\n",
      "Frame/Level RMS: (1117, 10)\n",
      "Euclidean distance matrix: (1117, 1117)\n",
      "[[0.0000000e+00 1.3327756e+00 1.9560937e+00 ... 3.5984211e+00\n",
      "  3.5827613e+00 3.6280165e+00]\n",
      " [1.3327756e+00 0.0000000e+00 1.1810921e+00 ... 2.8886342e+00\n",
      "  2.8470514e+00 3.0740402e+00]\n",
      " [1.9560939e+00 1.1810925e+00 0.0000000e+00 ... 1.9685655e+00\n",
      "  1.9916105e+00 2.1802001e+00]\n",
      " ...\n",
      " [3.5984211e+00 2.8886342e+00 1.9685655e+00 ... 0.0000000e+00\n",
      "  2.0906422e-01 5.4258507e-01]\n",
      " [3.5827613e+00 2.8470514e+00 1.9916105e+00 ... 2.0906422e-01\n",
      "  0.0000000e+00 5.8886617e-01]\n",
      " [3.6280165e+00 3.0740402e+00 2.1802001e+00 ... 5.4258484e-01\n",
      "  5.8886635e-01 9.7656250e-04]]\n"
     ]
    }
   ],
   "source": [
    "for name, make in {'sym6': wavelets.sym6}.items():\n",
    "    wavelet = make(dtype)\n",
    "    filters = wavelets.dwt_filters(wavelet)\n",
    "    inverse_filters = wavelets.idwt_filters(wavelet)\n",
    "\n",
    "    levels = wavelets.wavedec_valid(filters, 10, samples)\n",
    "    print(f'Levels: {[tuple(l.shape) for l in levels]}')\n",
    "    frames = framing.levels_to_frames(levels)\n",
    "    print(f'Frames: {[tuple(l.shape) for l in frames]}')\n",
    "    frame_level_rms = analysis.rms_by_frame_and_level(frames)\n",
    "    print(f'Frame/Level RMS: {tuple(frame_level_rms.shape)}')\n",
    "    distance_matrix = analysis.distance_matrix(frame_level_rms)\n",
    "    print(f'Euclidean distance matrix: {tuple(distance_matrix.shape)}')\n",
    "    print(distance_matrix.numpy())\n",
    "\n"
   ]
  }
 ],
 "metadata": {
  "kernelspec": {
   "display_name": "Python 3 (ipykernel)",
   "language": "python",
   "name": "python3"
  },
  "language_info": {
   "codemirror_mode": {
    "name": "ipython",
    "version": 3
   },
   "file_extension": ".py",
   "mimetype": "text/x-python",
   "name": "python",
   "nbconvert_exporter": "python",
   "pygments_lexer": "ipython3",
   "version": "3.11.11"
  }
 },
 "nbformat": 4,
 "nbformat_minor": 5
}
