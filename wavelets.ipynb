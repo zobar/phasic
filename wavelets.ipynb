{
 "cells": [
  {
   "cell_type": "code",
   "execution_count": 1,
   "id": "e64e97b9",
   "metadata": {},
   "outputs": [
    {
     "name": "stderr",
     "output_type": "stream",
     "text": [
      "2025-02-20 19:39:23.795743: I tensorflow/core/platform/cpu_feature_guard.cc:210] This TensorFlow binary is optimized to use available CPU instructions in performance-critical operations.\n",
      "To enable the following instructions: SSE4.1 SSE4.2 AVX AVX2 AVX512F FMA, in other operations, rebuild TensorFlow with the appropriate compiler flags.\n"
     ]
    }
   ],
   "source": [
    "import numpy as np\n",
    "from ondelette import wavelets\n",
    "import pywt\n",
    "import tensorflow as tf\n",
    "\n",
    "np.set_printoptions(floatmode='unique')\n",
    "rng = np.random.default_rng()"
   ]
  },
  {
   "cell_type": "code",
   "execution_count": 61,
   "id": "830ea291",
   "metadata": {},
   "outputs": [
    {
     "name": "stdout",
     "output_type": "stream",
     "text": [
      "SAMPLES:\n",
      "[[  7056 -20201 -15802  -6322 -30602 -28170  13987  25370  -6581  30526\n",
      "   32752  14488]\n",
      " [  -791   2240  -4355   6919   7325  17282 -23582  14476   1783  16446\n",
      "  -24585  -9516]]\n",
      "\n",
      "SAMPLE SHAPE: (2, 12)\n",
      "a0 SHAPE: (2, 7)\n",
      "a1 SHAPE: (2, 4)\n",
      "a2 SHAPE: (2, 3)\n"
     ]
    }
   ],
   "source": [
    "dtype = tf.float32\n",
    "wavelet_name = 'db2'\n",
    "\n",
    "wavelet = wavelets.all[wavelet_name](dtype=dtype)\n",
    "\n",
    "samples_np = rng.integers(-32768, 32767, [2, 12], dtype=np.int16, endpoint=True)\n",
    "print('SAMPLES:')\n",
    "print(samples_np)\n",
    "print()\n",
    "samples = tf.constant(samples_np, dtype=dtype)\n",
    "\n",
    "print(f'SAMPLE SHAPE: {samples.shape}')\n",
    "\n",
    "a0, d0 = wavelets.dwt(wavelet, samples)\n",
    "print(f'a0 SHAPE: {a0.shape}')\n",
    "\n",
    "a1, d1 = wavelets.dwt(wavelet, a0)\n",
    "print(f'a1 SHAPE: {a1.shape}')\n",
    "\n",
    "a2, d2 = wavelets.dwt(wavelet, a1)\n",
    "print(f'a2 SHAPE: {a2.shape}')\n",
    "\n",
    "d1_pad = ((d2.shape[1] * 2) - d1.shape[1]) // 2\n",
    "d1 = tf.pad(d1, [[0, 0], [d1_pad, d1_pad]])\n",
    "\n",
    "d0_pad = (((d1.shape[1] * 2) - d0.shape[1])) // 2\n",
    "d0 = tf.pad(d0, [[0, 0], [d0_pad, d0_pad]])\n",
    "\n",
    "# r0 = wavelets.idwt(wavelet, a1, d1)\n",
    "# rec_float = wavelets.idwt(wavelet, r0, d0)\n",
    "# rec_rounded = tf.round(rec_float)\n",
    "# rec = tf.cast(rec_rounded, tf.int16)\n",
    "# print('RECONSTRUCTION:')\n",
    "# print(rec.numpy())\n",
    "# print()"
   ]
  },
  {
   "cell_type": "code",
   "execution_count": 62,
   "id": "0eb1f80f",
   "metadata": {},
   "outputs": [
    {
     "name": "stdout",
     "output_type": "stream",
     "text": [
      "APPROXIMATION: (2, 3)\n",
      "[[  1997.5181  -20911.459    15207.108  ]\n",
      " [   149.68118    459.70367   7451.672  ]]\n",
      "\n",
      "DETAIL 2: (2, 3)\n",
      "[[  7454.839   -49875.74     -4074.732  ]\n",
      " [   558.61774   6015.268    -1996.6696 ]]\n",
      "\n",
      "DETAIL 1: (2, 6)\n",
      "[[     0.       11340.8125    8185.393    16143.309    14215.223\n",
      "       0.     ]\n",
      " [     0.        -207.39052  -2502.6692   -8665.635   -18778.408\n",
      "       0.     ]]\n",
      "\n",
      "DETAIL 0: (2, 11)\n",
      "[[     0.          0.      15658.793   -6550.523   -8532.04     9721.909\n",
      "  -27744.621   14409.845   -7485.8174      0.          0.    ]\n",
      " [     0.          0.      -1743.5212  -7384.368   -3206.356  -31539.678\n",
      "   -6644.2705 -19886.887    5314.4863      0.          0.    ]]\n"
     ]
    }
   ],
   "source": [
    "print(f'APPROXIMATION: {a2.shape}')\n",
    "print(a2.numpy())\n",
    "print()\n",
    "print(f'DETAIL 2: {d2.shape}')\n",
    "print(d2.numpy())\n",
    "print()\n",
    "print(f'DETAIL 1: {d1.shape}')\n",
    "print(d1.numpy())\n",
    "print()\n",
    "print(f'DETAIL 0: {d0.shape}')\n",
    "print(d0.numpy())"
   ]
  },
  {
   "cell_type": "code",
   "execution_count": 63,
   "id": "8771508d",
   "metadata": {},
   "outputs": [
    {
     "data": {
      "text/plain": [
       "<tf.Tensor: shape=(2, 8), dtype=float32, numpy=\n",
       "array([[-2.1217769e-05,  4.1219755e-05,  3.0387622e+03, -1.0172345e+04,\n",
       "        -3.8537266e+04,  4.0428594e+04,  3.1317430e-04, -2.0278923e-04],\n",
       "       [ 4.4786448e-06,  1.7078193e-05, -5.5570171e+01, -1.2528976e+03,\n",
       "         8.9921787e+03,  3.7163450e+03, -2.1040768e-04,  9.8679520e-06]],\n",
       "      dtype=float32)>"
      ]
     },
     "execution_count": 63,
     "metadata": {},
     "output_type": "execute_result"
    }
   ],
   "source": [
    "a2 = tf.pad(a2, [[0, 0], [1, 1]])\n",
    "d2 = tf.pad(d2, [[0, 0], [1, 1]])\n",
    "wavelets.idwt(wavelet, a2, d2)"
   ]
  },
  {
   "cell_type": "code",
   "execution_count": null,
   "id": "2b0db8e8",
   "metadata": {},
   "outputs": [],
   "source": []
  }
 ],
 "metadata": {
  "kernelspec": {
   "display_name": "Python 3 (ipykernel)",
   "language": "python",
   "name": "python3"
  },
  "language_info": {
   "codemirror_mode": {
    "name": "ipython",
    "version": 3
   },
   "file_extension": ".py",
   "mimetype": "text/x-python",
   "name": "python",
   "nbconvert_exporter": "python",
   "pygments_lexer": "ipython3",
   "version": "3.11.11"
  }
 },
 "nbformat": 4,
 "nbformat_minor": 5
}
